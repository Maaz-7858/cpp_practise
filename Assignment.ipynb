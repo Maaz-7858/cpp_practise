{
  "nbformat": 4,
  "nbformat_minor": 0,
  "metadata": {
    "colab": {
      "provenance": [],
      "authorship_tag": "ABX9TyOjxztJMnu4bhg0JkM/+Q78",
      "include_colab_link": true
    },
    "kernelspec": {
      "name": "python3",
      "display_name": "Python 3"
    },
    "language_info": {
      "name": "python"
    }
  },
  "cells": [
    {
      "cell_type": "markdown",
      "metadata": {
        "id": "view-in-github",
        "colab_type": "text"
      },
      "source": [
        "<a href=\"https://colab.research.google.com/github/Maaz-7858/cpp_practise/blob/main/Assignment.ipynb\" target=\"_parent\"><img src=\"https://colab.research.google.com/assets/colab-badge.svg\" alt=\"Open In Colab\"/></a>"
      ]
    },
    {
      "cell_type": "markdown",
      "source": [
        "1.Explain the key features of Python that make it a popular choice for programming.\n",
        "*  Python is a programming language that is easy to understand and write, making it a popular choice among developers and programmers.\n",
        "* It is compatible with various programming paradigms, such as procedural, object-oriented, and functional programming.\n",
        "* Python has a large and active community of developers, an extensive standard\n",
        "library, and third-party packages for various domains.\n",
        "\n",
        "2.Describe the roleof predefined keywords in Python and provide examples of how they are used in a program.\n",
        "* Keywords are reserved words in Python that have special meanings and cannot be used as identifiers (variable names, function names, etc.).\n",
        "* Examples of keywords include if, else, while, for, def, class, import, try, except, return, True, False, None, etc.\n",
        "* Keywords are case-sensitive and cannot be redefined or overridden within a Python program.\n",
        "\n",
        "3.Compare and contrast mutable and immutable objects inPython with examples.\n",
        "* In Python, objects can be either changeable (modifiable) or unchangeable (unchangeable).\n",
        "* Mutable objects, such as lists and dictionaries, can be modified after creation, while immutable objects, such as tuples and strings, cannot.\n",
        "* Mutability affects how objects are stored and manipulated in memory, impacting performance, memory usage, and concurrency in Python programs.\n",
        "\n",
        "4.Discuss the different types of operators in Python and provide examples of how they are used.\n",
        "* The operators used in Python includes arithmetic operators (+, -, *, /), comparison operators (==, !=, <, >), logical operators (and, or, not), assignment operators (=, +=, -=, *=, /=), etc.\n",
        "* Operators have precedence and associativity rules that determine the order of evaluation in expressions.\n",
        "\n",
        "5.Explain the concept of type casting in Pythonh with examples.\n",
        "* Type casting is the process of changing one data type to another in Python.\n",
        "* It is also referred to as Type conversion.\n",
        "* Python provides built-in functions for type casting, such as int(), float(), str(), list(), tuple(), dict(), etc.\n",
        "* Type casting is often necessary for performing arithmetic operations, data manipulation, and input/output operations in Python programs.\n",
        "\n",
        "6.How do conditional statements work in Python? Illustrate with examples.\n",
        "* Conditionals in Python are used to execute code based on the evaluation of one or more conditions.\n",
        "* Python supports conditional statements such as if, elif (else if), and else tocontrol the flow of execution.\n",
        "* Conditionals can be nested to handle multiple conditions and control different branches of execution based on the outcome of logical expressions.\n",
        "\n",
        "7.Describe the different types of loops in Python and their use cases with examples.\n",
        "* In Python, loops are employed to repeat a sequence of actions or code until a specific condition is fulfilled.\n",
        "* Python offers two primary types of loops: for loops and while loops.\n",
        "* “for” loops are used for iterating over a sequence of elements, while “while” loops are used for executing code until a specified condition becomes False.\n"
      ],
      "metadata": {
        "id": "ySMrH3RZlrHN"
      }
    }
  ]
}